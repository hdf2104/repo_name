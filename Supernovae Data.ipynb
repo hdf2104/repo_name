{
 "cells": [
  {
   "cell_type": "code",
   "execution_count": 6,
   "metadata": {
    "collapsed": false
   },
   "outputs": [],
   "source": [
    "from matplotlib import *"
   ]
  },
  {
   "cell_type": "code",
   "execution_count": 10,
   "metadata": {
    "collapsed": true
   },
   "outputs": [],
   "source": [
    "from  numpy import *"
   ]
  },
  {
   "cell_type": "code",
   "execution_count": 9,
   "metadata": {
    "collapsed": false
   },
   "outputs": [
    {
     "name": "stdout",
     "output_type": "stream",
     "text": [
      "/Users/haleyfica\n"
     ]
    }
   ],
   "source": [
    "cd"
   ]
  },
  {
   "cell_type": "code",
   "execution_count": 11,
   "metadata": {
    "collapsed": false
   },
   "outputs": [
    {
     "name": "stdout",
     "output_type": "stream",
     "text": [
      "\u001b[34mApplications\u001b[m\u001b[m/          \u001b[34mLibrary\u001b[m\u001b[m/               \u001b[34mSWC-2015-05-26-amnh\u001b[m\u001b[m/\r\n",
      "\u001b[34mDesktop\u001b[m\u001b[m/               \u001b[34mMovies\u001b[m\u001b[m/                Supernovae Data.ipynb\r\n",
      "\u001b[34mDocuments\u001b[m\u001b[m/             \u001b[34mMusic\u001b[m\u001b[m/                 \u001b[34manaconda\u001b[m\u001b[m/\r\n",
      "\u001b[34mDownloads\u001b[m\u001b[m/             \u001b[34mPictures\u001b[m\u001b[m/\r\n",
      "\u001b[34mDropbox\u001b[m\u001b[m/               \u001b[34mPublic\u001b[m\u001b[m/\r\n"
     ]
    }
   ],
   "source": [
    "ls"
   ]
  },
  {
   "cell_type": "code",
   "execution_count": 12,
   "metadata": {
    "collapsed": true
   },
   "outputs": [],
   "source": [
    "from matplotlib import *"
   ]
  },
  {
   "cell_type": "code",
   "execution_count": 13,
   "metadata": {
    "collapsed": true
   },
   "outputs": [],
   "source": [
    "from numpy import *"
   ]
  },
  {
   "cell_type": "code",
   "execution_count": 14,
   "metadata": {
    "collapsed": false
   },
   "outputs": [
    {
     "name": "stdout",
     "output_type": "stream",
     "text": [
      "\u001b[34mApplications\u001b[m\u001b[m/          \u001b[34mLibrary\u001b[m\u001b[m/               \u001b[34mSWC-2015-05-26-amnh\u001b[m\u001b[m/\r\n",
      "\u001b[34mDesktop\u001b[m\u001b[m/               \u001b[34mMovies\u001b[m\u001b[m/                Supernovae Data.ipynb\r\n",
      "\u001b[34mDocuments\u001b[m\u001b[m/             \u001b[34mMusic\u001b[m\u001b[m/                 \u001b[34manaconda\u001b[m\u001b[m/\r\n",
      "\u001b[34mDownloads\u001b[m\u001b[m/             \u001b[34mPictures\u001b[m\u001b[m/\r\n",
      "\u001b[34mDropbox\u001b[m\u001b[m/               \u001b[34mPublic\u001b[m\u001b[m/\r\n"
     ]
    }
   ],
   "source": [
    "ls"
   ]
  },
  {
   "cell_type": "code",
   "execution_count": 15,
   "metadata": {
    "collapsed": false
   },
   "outputs": [
    {
     "name": "stdout",
     "output_type": "stream",
     "text": [
      "/Users/haleyfica/Downloads\n"
     ]
    }
   ],
   "source": [
    "cd downloads"
   ]
  },
  {
   "cell_type": "code",
   "execution_count": 16,
   "metadata": {
    "collapsed": false
   },
   "outputs": [
    {
     "name": "stdout",
     "output_type": "stream",
     "text": [
      "/Users/haleyfica\n"
     ]
    }
   ],
   "source": [
    "cd ../"
   ]
  },
  {
   "cell_type": "code",
   "execution_count": 19,
   "metadata": {
    "collapsed": false
   },
   "outputs": [
    {
     "name": "stdout",
     "output_type": "stream",
     "text": [
      "/Users/haleyfica/Downloads\n"
     ]
    }
   ],
   "source": [
    "cd downloads"
   ]
  },
  {
   "cell_type": "code",
   "execution_count": 21,
   "metadata": {
    "collapsed": false
   },
   "outputs": [],
   "source": [
    "z, z_err, d, d_err = loadtxt('HubbleData.dat', unpack=True, usecols=[0,1,2,3])"
   ]
  },
  {
   "cell_type": "code",
   "execution_count": 22,
   "metadata": {
    "collapsed": false
   },
   "outputs": [
    {
     "data": {
      "text/plain": [
       "array([ 0.014,  0.018,  0.02 ,  0.026,  0.026,  0.03 ,  0.036,  0.043,\n",
       "        0.045,  0.05 ,  0.05 ,  0.052,  0.063,  0.071,  0.075,  0.079,\n",
       "        0.088,  0.101])"
      ]
     },
     "execution_count": 22,
     "metadata": {},
     "output_type": "execute_result"
    }
   ],
   "source": [
    "z"
   ]
  },
  {
   "cell_type": "code",
   "execution_count": 23,
   "metadata": {
    "collapsed": false
   },
   "outputs": [
    {
     "data": {
      "text/plain": [
       "array([ 0.0010519,  0.0004234,  0.0008808,  0.001111 ,  0.001033 ,\n",
       "        0.0007521,  0.0007584,  0.001134 ,  0.0004614,  0.001146 ,\n",
       "        0.0008919,  0.0005225,  0.0009001,  0.0002973,  0.0003684,\n",
       "        0.0002323,  0.0005897,  0.0005894])"
      ]
     },
     "execution_count": 23,
     "metadata": {},
     "output_type": "execute_result"
    }
   ],
   "source": [
    "z_err"
   ]
  },
  {
   "cell_type": "code",
   "execution_count": null,
   "metadata": {
    "collapsed": true
   },
   "outputs": [],
   "source": []
  }
 ],
 "metadata": {
  "kernelspec": {
   "display_name": "Python 2",
   "language": "python",
   "name": "python2"
  },
  "language_info": {
   "codemirror_mode": {
    "name": "ipython",
    "version": 2
   },
   "file_extension": ".py",
   "mimetype": "text/x-python",
   "name": "python",
   "nbconvert_exporter": "python",
   "pygments_lexer": "ipython2",
   "version": "2.7.9"
  }
 },
 "nbformat": 4,
 "nbformat_minor": 0
}
